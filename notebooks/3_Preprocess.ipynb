{
 "cells": [
  {
   "cell_type": "code",
   "id": "initial_id",
   "metadata": {
    "collapsed": true,
    "jupyter": {
     "outputs_hidden": true
    },
    "ExecuteTime": {
     "end_time": "2025-08-23T09:54:21.178491Z",
     "start_time": "2025-08-23T09:54:21.170599Z"
    }
   },
   "source": [
    "import pandas as pd\n",
    "from src.config import RAW_DATA"
   ],
   "outputs": [],
   "execution_count": 3
  },
  {
   "cell_type": "code",
   "id": "9ffae91cdfb393e3",
   "metadata": {
    "ExecuteTime": {
     "end_time": "2025-08-23T09:54:21.302449Z",
     "start_time": "2025-08-23T09:54:21.250094Z"
    }
   },
   "source": [
    "df = pd.read_csv(RAW_DATA)"
   ],
   "outputs": [],
   "execution_count": 4
  },
  {
   "cell_type": "markdown",
   "id": "2ad0031e751ef0fd",
   "metadata": {},
   "source": [
    "# Split Data"
   ]
  },
  {
   "cell_type": "code",
   "id": "b4f2d5101398c229",
   "metadata": {
    "ExecuteTime": {
     "end_time": "2025-08-23T09:54:28.334044Z",
     "start_time": "2025-08-23T09:54:21.387276Z"
    }
   },
   "source": [
    "from sklearn.model_selection import train_test_split"
   ],
   "outputs": [],
   "execution_count": 5
  },
  {
   "cell_type": "code",
   "id": "9a67fb9207e3fbf6",
   "metadata": {
    "ExecuteTime": {
     "end_time": "2025-08-23T09:54:28.404473Z",
     "start_time": "2025-08-23T09:54:28.362128Z"
    }
   },
   "source": [
    "x = df.drop('charges',axis=1)\n",
    "y = df['charges']\n",
    "\n",
    "X_train , X_test , Y_train , Y_test = train_test_split(x,y,test_size=0.2,random_state=42)\n"
   ],
   "outputs": [],
   "execution_count": 6
  },
  {
   "cell_type": "markdown",
   "id": "b9aa8f704fcce8da",
   "metadata": {},
   "source": [
    "# Encoding & Scalling"
   ]
  },
  {
   "cell_type": "code",
   "id": "8d273826411d339a",
   "metadata": {
    "ExecuteTime": {
     "end_time": "2025-08-23T09:54:28.482706Z",
     "start_time": "2025-08-23T09:54:28.476570Z"
    }
   },
   "source": [
    "# bmi is only the normal distribution we have\n",
    "\n",
    "num_normal = [\"bmi\"]\n",
    "num_not_normal = [\"age\", \"children\"]\n",
    "\n",
    "# categorical columns\n",
    "\n",
    "categorical_nominal = [\"region\"] # to apply onehot encoding\n",
    "categorical_binary = [\"sex\", \"smoker\"] # just mapping\n"
   ],
   "outputs": [],
   "execution_count": 7
  },
  {
   "cell_type": "code",
   "id": "6e95d70d4219a866",
   "metadata": {
    "ExecuteTime": {
     "end_time": "2025-08-23T09:54:29.118863Z",
     "start_time": "2025-08-23T09:54:28.586471Z"
    }
   },
   "source": [
    "from sklearn.compose import ColumnTransformer\n",
    "from sklearn.preprocessing import OneHotEncoder, StandardScaler, MinMaxScaler\n",
    "\n",
    "# Map categorical_binary first\n",
    "binary_mapping = {\n",
    "    \"sex\": {\"male\": 1, \"female\": 0},\n",
    "    \"smoker\": {\"yes\": 1, \"no\": 0},\n",
    "}\n",
    "\n",
    "for col, mapping in binary_mapping.items():\n",
    "    X_train[col] = X_train[col].map(mapping)\n",
    "    X_test[col] = X_test[col].map(mapping)\n",
    "\n",
    "# Preprocessor (only for scaling + onehot)\n",
    "preprocessor = ColumnTransformer(\n",
    "    transformers=[\n",
    "        (\"std\", StandardScaler(), num_normal),\n",
    "        (\"minmax\", MinMaxScaler(), num_not_normal),\n",
    "        (\"onehot\", OneHotEncoder(drop=\"first\"), categorical_nominal),\n",
    "    ],\n",
    "    remainder=\"passthrough\"  # keep sex/smoker (already 0/1)\n",
    ")\n"
   ],
   "outputs": [],
   "execution_count": 8
  },
  {
   "cell_type": "markdown",
   "id": "26345293f9ae20f7",
   "metadata": {},
   "source": [
    "# Fit Data"
   ]
  },
  {
   "cell_type": "code",
   "id": "4b914aa5eb14beb4",
   "metadata": {
    "ExecuteTime": {
     "end_time": "2025-08-23T09:54:29.255964Z",
     "start_time": "2025-08-23T09:54:29.181501Z"
    }
   },
   "source": [
    "\n",
    "# Apply transformations\n",
    "X_train_preprocessed = preprocessor.fit_transform(X_train)\n",
    "X_test_preprocessed = preprocessor.transform(X_test)\n",
    "\n",
    "# Convert back to DataFrame with column names\n",
    "onehot_columns = preprocessor.named_transformers_[\"onehot\"].get_feature_names_out(categorical_nominal)\n",
    "final_columns = num_normal + num_not_normal + list(onehot_columns) + categorical_binary\n",
    "\n",
    "X_train_preprocessed = pd.DataFrame(X_train_preprocessed, columns=final_columns)\n",
    "X_test_preprocessed = pd.DataFrame(X_test_preprocessed, columns=final_columns)\n"
   ],
   "outputs": [],
   "execution_count": 9
  },
  {
   "cell_type": "code",
   "id": "76de9cccf4c44df4",
   "metadata": {
    "ExecuteTime": {
     "end_time": "2025-08-23T09:54:29.414960Z",
     "start_time": "2025-08-23T09:54:29.392316Z"
    }
   },
   "source": [
    "import joblib\n",
    "from src.config import MODEL_DIR\n",
    "\n",
    "joblib.dump(preprocessor,MODEL_DIR/\"transformer.pkl\")"
   ],
   "outputs": [
    {
     "data": {
      "text/plain": [
       "['/home/abdelrahman/hdd/void/GitHub/My-Projects/MCP/src/model/transformer.pkl']"
      ]
     },
     "execution_count": 10,
     "metadata": {},
     "output_type": "execute_result"
    }
   ],
   "execution_count": 10
  },
  {
   "cell_type": "markdown",
   "id": "fe70615041c20ad3",
   "metadata": {},
   "source": [
    "# Save Data"
   ]
  },
  {
   "cell_type": "code",
   "id": "670d96dbbda3199",
   "metadata": {
    "ExecuteTime": {
     "end_time": "2025-08-23T09:54:29.702496Z",
     "start_time": "2025-08-23T09:54:29.572116Z"
    }
   },
   "source": [
    "from src.config import PROC_DATA_DIR\n",
    "\n",
    "X_train_preprocessed.to_csv(PROC_DATA_DIR / \"X_train_preprocessed.csv\", index=False)\n",
    "X_test_preprocessed.to_csv(PROC_DATA_DIR / \"X_test_preprocessed.csv\", index=False)\n",
    "Y_train.to_csv(PROC_DATA_DIR / \"y_train.csv\", index=False)\n",
    "Y_test.to_csv(PROC_DATA_DIR / \"y_test.csv\", index=False)\n"
   ],
   "outputs": [],
   "execution_count": 11
  }
 ],
 "metadata": {
  "kernelspec": {
   "display_name": "Python 3 (ipykernel)",
   "language": "python",
   "name": "python3"
  },
  "language_info": {
   "codemirror_mode": {
    "name": "ipython",
    "version": 2
   },
   "file_extension": ".py",
   "mimetype": "text/x-python",
   "name": "python",
   "nbconvert_exporter": "python",
   "pygments_lexer": "ipython2",
   "version": "2.7.6"
  }
 },
 "nbformat": 4,
 "nbformat_minor": 5
}
