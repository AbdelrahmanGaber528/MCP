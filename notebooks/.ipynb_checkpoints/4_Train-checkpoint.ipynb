{
 "cells": [
  {
   "cell_type": "code",
   "execution_count": null,
   "id": "initial_id",
   "metadata": {
    "ExecuteTime": {
     "end_time": "2025-08-21T16:15:29.633459Z",
     "start_time": "2025-08-21T16:15:27.985726Z"
    }
   },
   "outputs": [],
   "source": [
    "import pandas as pd\n",
    "from sklearn.linear_model import LinearRegression\n",
    "from sklearn.preprocessing import PolynomialFeatures\n",
    "from sklearn.pipeline import Pipeline\n",
    "import joblib"
   ]
  },
  {
   "cell_type": "code",
   "execution_count": null,
   "id": "6a94dc10b9670fb",
   "metadata": {
    "ExecuteTime": {
     "end_time": "2025-08-21T16:15:29.911824Z",
     "start_time": "2025-08-21T16:15:29.900790Z"
    }
   },
   "outputs": [],
   "source": [
    "from src.config import PROC_DATA_DIR\n",
    "X_train = pd.read_csv(PROC_DATA_DIR/\"X_train_preprocessed.csv\")\n",
    "Y_train = pd.read_csv(PROC_DATA_DIR/\"y_train.csv\")"
   ]
  },
  {
   "cell_type": "code",
   "execution_count": null,
   "id": "42b47ec8ed04a92d",
   "metadata": {
    "ExecuteTime": {
     "end_time": "2025-08-21T16:15:30.391744Z",
     "start_time": "2025-08-21T16:15:29.979243Z"
    }
   },
   "outputs": [],
   "source": [
    "from src.config import MODEL_DIR\n",
    "\n",
    "lin_reg = LinearRegression()\n",
    "reg_model = lin_reg.fit(X_train,Y_train)\n",
    "\n",
    "# save model\n",
    "joblib.dump(lin_reg, MODEL_DIR/\"linear_model.pkl\")"
   ]
  },
  {
   "cell_type": "code",
   "execution_count": null,
   "id": "3211a568dbf2bea2",
   "metadata": {
    "ExecuteTime": {
     "end_time": "2025-08-21T16:16:22.684371Z",
     "start_time": "2025-08-21T16:16:22.646531Z"
    }
   },
   "outputs": [],
   "source": [
    "from src.config import MODEL_DIR\n",
    "\n",
    "poly_model = Pipeline([\n",
    "    ('poly', PolynomialFeatures(degree=2, include_bias=False)),\n",
    "    ('linear', LinearRegression())\n",
    "])\n",
    "poly_model.fit(X_train, Y_train)\n",
    "\n",
    "# save model\n",
    "joblib.dump(poly_model, MODEL_DIR/\"poly_model.pkl\")"
   ]
  },
  {
   "cell_type": "code",
   "execution_count": null,
   "id": "548c9776",
   "metadata": {
    "ExecuteTime": {
     "end_time": "2025-08-21T16:15:57.446402Z",
     "start_time": "2025-08-21T16:15:57.418429Z"
    }
   },
   "outputs": [],
   "source": [
    "X_test = pd.read_csv(\"../data/process/X_train_preprocessed.csv\")\n",
    "\n",
    "poly_model.predict(X_test.head(5))"
   ]
  },
  {
   "cell_type": "code",
   "execution_count": null,
   "id": "f0a8a6e8-e061-42f7-b7e3-b9a1f69f8ea2",
   "metadata": {},
   "outputs": [],
   "source": []
  }
 ],
 "metadata": {
  "kernelspec": {
   "display_name": "Python 3 (ipykernel)",
   "language": "python",
   "name": "python3"
  },
  "language_info": {
   "codemirror_mode": {
    "name": "ipython",
    "version": 3
   },
   "file_extension": ".py",
   "mimetype": "text/x-python",
   "name": "python",
   "nbconvert_exporter": "python",
   "pygments_lexer": "ipython3",
   "version": "3.12.11"
  }
 },
 "nbformat": 4,
 "nbformat_minor": 5
}
