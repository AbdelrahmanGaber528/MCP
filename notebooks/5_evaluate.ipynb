{
 "cells": [
  {
   "cell_type": "code",
   "id": "initial_id",
   "metadata": {
    "collapsed": true,
    "ExecuteTime": {
     "end_time": "2025-08-23T09:56:42.876948Z",
     "start_time": "2025-08-23T09:56:41.411969Z"
    }
   },
   "source": [
    "import pandas as pd\n",
    "import joblib"
   ],
   "outputs": [],
   "execution_count": 1
  },
  {
   "metadata": {
    "ExecuteTime": {
     "end_time": "2025-08-23T09:56:47.174314Z",
     "start_time": "2025-08-23T09:56:43.389026Z"
    }
   },
   "cell_type": "code",
   "source": [
    "from src.config.paths import MODEL_DIR\n",
    "scalar = joblib.load(MODEL_DIR/\"transformer.pkl\")\n",
    "linear_model = joblib.load(MODEL_DIR/\"linear_model.pkl\")\n",
    "poly_model = joblib.load(MODEL_DIR/\"poly_model.pkl\")"
   ],
   "id": "1072dd30f40fdb66",
   "outputs": [],
   "execution_count": 2
  },
  {
   "metadata": {},
   "cell_type": "markdown",
   "source": "# Get Predictions",
   "id": "f07b46cca0fcf2a6"
  },
  {
   "metadata": {
    "ExecuteTime": {
     "end_time": "2025-08-23T09:56:47.280411Z",
     "start_time": "2025-08-23T09:56:47.241327Z"
    }
   },
   "cell_type": "code",
   "source": [
    "from src.config import PROC_DATA_DIR\n",
    "\n",
    "# linear model\n",
    "x_train = pd.read_csv(PROC_DATA_DIR/\"X_train_preprocessed.csv\")\n",
    "x_test = pd.read_csv(PROC_DATA_DIR/\"X_test_preprocessed.csv\")\n",
    "\n",
    "y_linear_predictions = linear_model.predict(x_test)\n",
    "\n",
    "# poly\n",
    "y_poly_prediction = poly_model.predict(x_test)\n"
   ],
   "id": "2e91d639531200a2",
   "outputs": [],
   "execution_count": 3
  },
  {
   "metadata": {},
   "cell_type": "markdown",
   "source": "# Results",
   "id": "4da906a7f5c18332"
  },
  {
   "metadata": {},
   "cell_type": "markdown",
   "source": "### Linear Model",
   "id": "223f43bd9c2cc485"
  },
  {
   "metadata": {
    "ExecuteTime": {
     "end_time": "2025-08-23T09:56:47.457632Z",
     "start_time": "2025-08-23T09:56:47.436800Z"
    }
   },
   "cell_type": "code",
   "source": [
    "from sklearn.metrics import r2_score , mean_squared_error\n",
    "\n",
    "y_test = pd.read_csv(PROC_DATA_DIR/\"y_test.csv\")\n",
    "print(\"Linear Model : \")\n",
    "print(f\"R2 : {r2_score(y_test,y_linear_predictions)}\")\n",
    "print(f\"MSE: {mean_squared_error(y_test,y_linear_predictions)}\")"
   ],
   "id": "2605010464f1aab3",
   "outputs": [
    {
     "name": "stdout",
     "output_type": "stream",
     "text": [
      "Linear Model : \n",
      "R2 : 0.7835929767120721\n",
      "MSE: 33596915.851361506\n"
     ]
    }
   ],
   "execution_count": 4
  },
  {
   "metadata": {},
   "cell_type": "markdown",
   "source": "### Polynomial Model",
   "id": "a0e3669fe35583cb"
  },
  {
   "metadata": {
    "ExecuteTime": {
     "end_time": "2025-08-23T09:56:47.685976Z",
     "start_time": "2025-08-23T09:56:47.658788Z"
    }
   },
   "cell_type": "code",
   "source": [
    "print(\"Polynomial Model : \")\n",
    "print(f\"R2 : {r2_score(y_test,y_poly_prediction)}\")\n",
    "print(f\"MSE : {mean_squared_error(y_test,y_poly_prediction)}\")"
   ],
   "id": "ff58704be0c6e3c0",
   "outputs": [
    {
     "name": "stdout",
     "output_type": "stream",
     "text": [
      "Polynomial Model : \n",
      "R2 : 0.866583090316484\n",
      "MSE : 20712805.987918384\n"
     ]
    }
   ],
   "execution_count": 5
  },
  {
   "metadata": {
    "ExecuteTime": {
     "end_time": "2025-08-23T09:56:47.882827Z",
     "start_time": "2025-08-23T09:56:47.806865Z"
    }
   },
   "cell_type": "code",
   "source": [
    "y_train = pd.read_csv(PROC_DATA_DIR/\"y_train.csv\")\n",
    "\n",
    "y_train_pred = poly_model.predict(pd.read_csv(PROC_DATA_DIR/\"X_train_preprocessed.csv\"))\n",
    "y_test_pred = poly_model.predict(pd.read_csv(PROC_DATA_DIR/\"X_test_preprocessed.csv\"))\n",
    "\n",
    "# train\n",
    "print(f\"R2 : {r2_score(y_train,y_train_pred)}\")\n",
    "print(f\"MSE : {mean_squared_error(y_train,y_train_pred)}\")\n",
    "\n",
    "# test\n",
    "print(f\"R2 : {r2_score(y_test,y_test_pred)}\")\n",
    "print(f\"MSE : {mean_squared_error(y_test,y_test_pred)}\")\n"
   ],
   "id": "419a83089e2460f3",
   "outputs": [
    {
     "name": "stdout",
     "output_type": "stream",
     "text": [
      "R2 : 0.8418173231535121\n",
      "MSE : 22831078.676334273\n",
      "R2 : 0.866583090316484\n",
      "MSE : 20712805.987918384\n"
     ]
    }
   ],
   "execution_count": 6
  }
 ],
 "metadata": {
  "kernelspec": {
   "display_name": "Python 3",
   "language": "python",
   "name": "python3"
  },
  "language_info": {
   "codemirror_mode": {
    "name": "ipython",
    "version": 2
   },
   "file_extension": ".py",
   "mimetype": "text/x-python",
   "name": "python",
   "nbconvert_exporter": "python",
   "pygments_lexer": "ipython2",
   "version": "2.7.6"
  }
 },
 "nbformat": 4,
 "nbformat_minor": 5
}
