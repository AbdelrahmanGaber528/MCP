{
 "cells": [
  {
   "cell_type": "code",
   "id": "initial_id",
   "metadata": {
    "ExecuteTime": {
     "end_time": "2025-08-23T09:55:29.963670Z",
     "start_time": "2025-08-23T09:55:21.758488Z"
    }
   },
   "source": [
    "import pandas as pd\n",
    "from sklearn.linear_model import LinearRegression\n",
    "from sklearn.preprocessing import PolynomialFeatures\n",
    "from sklearn.pipeline import Pipeline\n",
    "import joblib"
   ],
   "outputs": [],
   "execution_count": 1
  },
  {
   "cell_type": "code",
   "id": "6a94dc10b9670fb",
   "metadata": {
    "ExecuteTime": {
     "end_time": "2025-08-23T09:55:31.155079Z",
     "start_time": "2025-08-23T09:55:31.058794Z"
    }
   },
   "source": [
    "from src.config import PROC_DATA_DIR\n",
    "X_train = pd.read_csv(PROC_DATA_DIR/\"X_train_preprocessed.csv\")\n",
    "Y_train = pd.read_csv(PROC_DATA_DIR/\"y_train.csv\")"
   ],
   "outputs": [],
   "execution_count": 2
  },
  {
   "cell_type": "code",
   "id": "42b47ec8ed04a92d",
   "metadata": {
    "ExecuteTime": {
     "end_time": "2025-08-23T09:55:31.370027Z",
     "start_time": "2025-08-23T09:55:31.233809Z"
    }
   },
   "source": [
    "from src.config import MODEL_DIR\n",
    "\n",
    "lin_reg = LinearRegression()\n",
    "reg_model = lin_reg.fit(X_train,Y_train)\n",
    "\n",
    "# save model\n",
    "joblib.dump(lin_reg, MODEL_DIR/\"linear_model.pkl\")"
   ],
   "outputs": [
    {
     "data": {
      "text/plain": [
       "['/home/abdelrahman/hdd/void/GitHub/My-Projects/MCP/src/model/linear_model.pkl']"
      ]
     },
     "execution_count": 3,
     "metadata": {},
     "output_type": "execute_result"
    }
   ],
   "execution_count": 3
  },
  {
   "cell_type": "code",
   "id": "3211a568dbf2bea2",
   "metadata": {
    "ExecuteTime": {
     "end_time": "2025-08-23T09:55:31.799343Z",
     "start_time": "2025-08-23T09:55:31.484367Z"
    }
   },
   "source": [
    "from src.config import MODEL_DIR\n",
    "\n",
    "poly_model = Pipeline([\n",
    "    ('poly', PolynomialFeatures(degree=2, include_bias=False)),\n",
    "    ('linear', LinearRegression())\n",
    "])\n",
    "poly_model.fit(X_train, Y_train)\n",
    "\n",
    "# save model\n",
    "joblib.dump(poly_model, MODEL_DIR/\"poly_model.pkl\")"
   ],
   "outputs": [
    {
     "data": {
      "text/plain": [
       "['/home/abdelrahman/hdd/void/GitHub/My-Projects/MCP/src/model/poly_model.pkl']"
      ]
     },
     "execution_count": 4,
     "metadata": {},
     "output_type": "execute_result"
    }
   ],
   "execution_count": 4
  }
 ],
 "metadata": {
  "kernelspec": {
   "display_name": "Python 3 (ipykernel)",
   "language": "python",
   "name": "python3"
  },
  "language_info": {
   "codemirror_mode": {
    "name": "ipython",
    "version": 3
   },
   "file_extension": ".py",
   "mimetype": "text/x-python",
   "name": "python",
   "nbconvert_exporter": "python",
   "pygments_lexer": "ipython3",
   "version": "3.12.11"
  }
 },
 "nbformat": 4,
 "nbformat_minor": 5
}
